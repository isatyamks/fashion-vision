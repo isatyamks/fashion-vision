{
 "cells": [
  {
   "cell_type": "code",
   "execution_count": 13,
   "id": "bf69572d",
   "metadata": {},
   "outputs": [],
   "source": [
    "from ultralytics import YOLO\n",
    "from PIL import Image\n",
    "import torch\n",
    "import os"
   ]
  },
  {
   "cell_type": "code",
   "execution_count": 15,
   "id": "cede1fcc",
   "metadata": {},
   "outputs": [],
   "source": [
    "data = \"../data/videos/2025-06-02_11-31-19_UTC.jpg\""
   ]
  },
  {
   "cell_type": "code",
   "execution_count": 16,
   "id": "e75bd2b4",
   "metadata": {},
   "outputs": [],
   "source": [
    "img_pth = data"
   ]
  },
  {
   "cell_type": "code",
   "execution_count": null,
   "id": "074e29f4",
   "metadata": {},
   "outputs": [],
   "source": [
    "# model = YOLO(\"yolov8n.pt\")\n",
    "model = YOLO(\"../data_20/runs/detect/fashion-v12/weights/best.pt\")\n"
   ]
  },
  {
   "cell_type": "code",
   "execution_count": 18,
   "id": "a1887be0",
   "metadata": {},
   "outputs": [
    {
     "name": "stdout",
     "output_type": "stream",
     "text": [
      "\n",
      "image 1/1 c:\\Users\\isatyamks\\Repositories\\Stealth\\flickd\\notebooks\\..\\data\\videos\\2025-06-02_11-31-19_UTC.jpg: 640x384 1 Corporate_Top, 76.2ms\n",
      "Speed: 5.3ms preprocess, 76.2ms inference, 204.3ms postprocess per image at shape (1, 3, 640, 384)\n"
     ]
    }
   ],
   "source": [
    "results = model(data)                "
   ]
  },
  {
   "cell_type": "code",
   "execution_count": 19,
   "id": "529b35f4",
   "metadata": {},
   "outputs": [],
   "source": [
    "for r in results:\n",
    "    r.show()"
   ]
  }
 ],
 "metadata": {
  "kernelspec": {
   "display_name": "base",
   "language": "python",
   "name": "python3"
  },
  "language_info": {
   "codemirror_mode": {
    "name": "ipython",
    "version": 3
   },
   "file_extension": ".py",
   "mimetype": "text/x-python",
   "name": "python",
   "nbconvert_exporter": "python",
   "pygments_lexer": "ipython3",
   "version": "3.13.2"
  }
 },
 "nbformat": 4,
 "nbformat_minor": 5
}
